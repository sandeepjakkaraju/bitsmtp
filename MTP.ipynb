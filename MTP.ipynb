{
 "cells": [
  {
   "cell_type": "code",
   "execution_count": 180,
   "id": "da16b871",
   "metadata": {},
   "outputs": [],
   "source": [
    "import pandas as pd\n",
    "import numpy as np"
   ]
  },
  {
   "cell_type": "code",
   "execution_count": 181,
   "id": "2c65a97b",
   "metadata": {},
   "outputs": [],
   "source": [
    "df = pd.read_csv('AllMailsOut.csv')  "
   ]
  },
  {
   "cell_type": "code",
   "execution_count": 182,
   "id": "4c1e36df",
   "metadata": {},
   "outputs": [
    {
     "data": {
      "text/plain": [
       "(21426, 6)"
      ]
     },
     "execution_count": 182,
     "metadata": {},
     "output_type": "execute_result"
    }
   ],
   "source": [
    "df.shape"
   ]
  },
  {
   "cell_type": "code",
   "execution_count": 183,
   "id": "c41cd0fd",
   "metadata": {},
   "outputs": [
    {
     "data": {
      "text/html": [
       "<div>\n",
       "<style scoped>\n",
       "    .dataframe tbody tr th:only-of-type {\n",
       "        vertical-align: middle;\n",
       "    }\n",
       "\n",
       "    .dataframe tbody tr th {\n",
       "        vertical-align: top;\n",
       "    }\n",
       "\n",
       "    .dataframe thead th {\n",
       "        text-align: right;\n",
       "    }\n",
       "</style>\n",
       "<table border=\"1\" class=\"dataframe\">\n",
       "  <thead>\n",
       "    <tr style=\"text-align: right;\">\n",
       "      <th></th>\n",
       "      <th>ID</th>\n",
       "      <th>FROMEMAIL</th>\n",
       "      <th>SUBJECT</th>\n",
       "      <th>BODY</th>\n",
       "      <th>NOATT</th>\n",
       "      <th>ATTFILES</th>\n",
       "    </tr>\n",
       "  </thead>\n",
       "  <tbody>\n",
       "    <tr>\n",
       "      <th>0</th>\n",
       "      <td>1</td>\n",
       "      <td>Edi [BCTN]\" &lt;bctedi@bctn.eu&gt;\"</td>\n",
       "      <td>Daily move ROE - Samskip Multimodal B.V. 15-11...</td>\n",
       "      <td>\\nThis email is generated automatically. Pleas...</td>\n",
       "      <td>2</td>\n",
       "      <td>ROE20221115133351477.txt;</td>\n",
       "    </tr>\n",
       "    <tr>\n",
       "      <th>1</th>\n",
       "      <td>2</td>\n",
       "      <td>edidft@icg.ie</td>\n",
       "      <td>DFT CODECO file for SAMSKIP</td>\n",
       "      <td>\\nThis message was automatically generated.\\n\\...</td>\n",
       "      <td>2</td>\n",
       "      <td>0000984742.txt;</td>\n",
       "    </tr>\n",
       "    <tr>\n",
       "      <th>2</th>\n",
       "      <td>3</td>\n",
       "      <td>edidft@icg.ie</td>\n",
       "      <td>DFT CODECO file for SAMSKIP</td>\n",
       "      <td>\\nThis message was automatically generated.\\n\\...</td>\n",
       "      <td>2</td>\n",
       "      <td>0000984741.txt;</td>\n",
       "    </tr>\n",
       "    <tr>\n",
       "      <th>3</th>\n",
       "      <td>4</td>\n",
       "      <td>edi@terminalas.lt</td>\n",
       "      <td>KCT SAMSKIP CODECO MESSAGES</td>\n",
       "      <td>\\nDear Sir or Madam,\\r\\n\\r\\nWe are sending new...</td>\n",
       "      <td>3</td>\n",
       "      <td>Samskip-CODECO04097126.EDI;</td>\n",
       "    </tr>\n",
       "    <tr>\n",
       "      <th>4</th>\n",
       "      <td>5</td>\n",
       "      <td>RCT &lt;edi.rigact@rto.lv&gt;</td>\n",
       "      <td>Container  SANU7524842 arrived</td>\n",
       "      <td>\\nUNA:+.? '\\r\\nUNB+UNOE:2+LVRIXRCOT+ISREYSANA+...</td>\n",
       "      <td>1</td>\n",
       "      <td>truck_in_457930.edi;</td>\n",
       "    </tr>\n",
       "  </tbody>\n",
       "</table>\n",
       "</div>"
      ],
      "text/plain": [
       "  ID                      FROMEMAIL  \\\n",
       "0  1  Edi [BCTN]\" <bctedi@bctn.eu>\"   \n",
       "1  2                  edidft@icg.ie   \n",
       "2  3                  edidft@icg.ie   \n",
       "3  4              edi@terminalas.lt   \n",
       "4  5        RCT <edi.rigact@rto.lv>   \n",
       "\n",
       "                                             SUBJECT  \\\n",
       "0  Daily move ROE - Samskip Multimodal B.V. 15-11...   \n",
       "1                        DFT CODECO file for SAMSKIP   \n",
       "2                        DFT CODECO file for SAMSKIP   \n",
       "3                        KCT SAMSKIP CODECO MESSAGES   \n",
       "4                     Container  SANU7524842 arrived   \n",
       "\n",
       "                                                BODY NOATT  \\\n",
       "0  \\nThis email is generated automatically. Pleas...     2   \n",
       "1  \\nThis message was automatically generated.\\n\\...     2   \n",
       "2  \\nThis message was automatically generated.\\n\\...     2   \n",
       "3  \\nDear Sir or Madam,\\r\\n\\r\\nWe are sending new...     3   \n",
       "4  \\nUNA:+.? '\\r\\nUNB+UNOE:2+LVRIXRCOT+ISREYSANA+...     1   \n",
       "\n",
       "                      ATTFILES  \n",
       "0    ROE20221115133351477.txt;  \n",
       "1              0000984742.txt;  \n",
       "2              0000984741.txt;  \n",
       "3  Samskip-CODECO04097126.EDI;  \n",
       "4         truck_in_457930.edi;  "
      ]
     },
     "execution_count": 183,
     "metadata": {},
     "output_type": "execute_result"
    }
   ],
   "source": [
    "df.head()"
   ]
  },
  {
   "cell_type": "code",
   "execution_count": 184,
   "id": "8161c97e",
   "metadata": {},
   "outputs": [
    {
     "data": {
      "text/plain": [
       "ID              0\n",
       "FROMEMAIL      48\n",
       "SUBJECT       226\n",
       "BODY         2302\n",
       "NOATT         270\n",
       "ATTFILES      434\n",
       "dtype: int64"
      ]
     },
     "execution_count": 184,
     "metadata": {},
     "output_type": "execute_result"
    }
   ],
   "source": [
    "df.isnull().sum()"
   ]
  },
  {
   "cell_type": "code",
   "execution_count": 185,
   "id": "5728ce84",
   "metadata": {},
   "outputs": [],
   "source": [
    "df['adrress']=1"
   ]
  },
  {
   "cell_type": "code",
   "execution_count": 186,
   "id": "5f66906e",
   "metadata": {},
   "outputs": [],
   "source": [
    "df['output']=1"
   ]
  },
  {
   "cell_type": "code",
   "execution_count": 187,
   "id": "ba3d6e08",
   "metadata": {},
   "outputs": [],
   "source": [
    "df['ATTFILESLIST'] = df['ATTFILES'].str.split(\";\")"
   ]
  },
  {
   "cell_type": "code",
   "execution_count": 188,
   "id": "07a52d03",
   "metadata": {},
   "outputs": [],
   "source": [
    "df['ATTCOUNT'] = df['ATTFILESLIST'].str.len()-1"
   ]
  },
  {
   "cell_type": "code",
   "execution_count": 189,
   "id": "015dc882",
   "metadata": {},
   "outputs": [],
   "source": [
    "df['ATTCOUNT'] = df['ATTCOUNT'].replace(0,np.NaN)"
   ]
  },
  {
   "cell_type": "code",
   "execution_count": 190,
   "id": "a0f60215",
   "metadata": {},
   "outputs": [
    {
     "name": "stderr",
     "output_type": "stream",
     "text": [
      "/var/folders/0x/hjdrdw650pqchzql_74mksxm0000gp/T/ipykernel_21887/3131770928.py:1: SettingWithCopyWarning: \n",
      "A value is trying to be set on a copy of a slice from a DataFrame.\n",
      "Try using .loc[row_indexer,col_indexer] = value instead\n",
      "\n",
      "See the caveats in the documentation: https://pandas.pydata.org/pandas-docs/stable/user_guide/indexing.html#returning-a-view-versus-a-copy\n",
      "  df[df['ATTCOUNT'].isna()]['ATTCOUNT'] =0\n"
     ]
    }
   ],
   "source": [
    "df[df['ATTCOUNT'].isna()]['ATTCOUNT'] =0"
   ]
  },
  {
   "cell_type": "code",
   "execution_count": 191,
   "id": "78b437d5",
   "metadata": {},
   "outputs": [],
   "source": [
    "df['ATTCOUNT']= df['ATTCOUNT'].fillna(0)"
   ]
  },
  {
   "cell_type": "code",
   "execution_count": 192,
   "id": "d9a58be7",
   "metadata": {},
   "outputs": [
    {
     "data": {
      "text/plain": [
       "0"
      ]
     },
     "execution_count": 192,
     "metadata": {},
     "output_type": "execute_result"
    }
   ],
   "source": [
    "df['ATTCOUNT'].isna().sum()"
   ]
  },
  {
   "cell_type": "code",
   "execution_count": 193,
   "id": "73c05834",
   "metadata": {},
   "outputs": [],
   "source": [
    "df['ATTCOUNT'] = df['ATTCOUNT'].astype(int)"
   ]
  },
  {
   "cell_type": "code",
   "execution_count": 194,
   "id": "c3859b58",
   "metadata": {},
   "outputs": [
    {
     "name": "stderr",
     "output_type": "stream",
     "text": [
      "/var/folders/0x/hjdrdw650pqchzql_74mksxm0000gp/T/ipykernel_21887/316474879.py:1: SettingWithCopyWarning: \n",
      "A value is trying to be set on a copy of a slice from a DataFrame\n",
      "\n",
      "See the caveats in the documentation: https://pandas.pydata.org/pandas-docs/stable/user_guide/indexing.html#returning-a-view-versus-a-copy\n",
      "  df['FROMEMAIL'].loc[~df['FROMEMAIL'].isna()] = 1  # not nan\n",
      "/var/folders/0x/hjdrdw650pqchzql_74mksxm0000gp/T/ipykernel_21887/316474879.py:2: SettingWithCopyWarning: \n",
      "A value is trying to be set on a copy of a slice from a DataFrame\n",
      "\n",
      "See the caveats in the documentation: https://pandas.pydata.org/pandas-docs/stable/user_guide/indexing.html#returning-a-view-versus-a-copy\n",
      "  df['FROMEMAIL'].loc[df['FROMEMAIL'].isna()] = 0\n"
     ]
    }
   ],
   "source": [
    "df['FROMEMAIL'].loc[~df['FROMEMAIL'].isna()] = 1  # not nan\n",
    "df['FROMEMAIL'].loc[df['FROMEMAIL'].isna()] = 0 "
   ]
  },
  {
   "cell_type": "code",
   "execution_count": 195,
   "id": "0a023cc6",
   "metadata": {},
   "outputs": [
    {
     "data": {
      "text/plain": [
       "1    21378\n",
       "0       48\n",
       "Name: FROMEMAIL, dtype: int64"
      ]
     },
     "execution_count": 195,
     "metadata": {},
     "output_type": "execute_result"
    }
   ],
   "source": [
    "df['FROMEMAIL'].value_counts()"
   ]
  },
  {
   "cell_type": "code",
   "execution_count": 196,
   "id": "5213e8cf",
   "metadata": {},
   "outputs": [
    {
     "data": {
      "text/html": [
       "<div>\n",
       "<style scoped>\n",
       "    .dataframe tbody tr th:only-of-type {\n",
       "        vertical-align: middle;\n",
       "    }\n",
       "\n",
       "    .dataframe tbody tr th {\n",
       "        vertical-align: top;\n",
       "    }\n",
       "\n",
       "    .dataframe thead th {\n",
       "        text-align: right;\n",
       "    }\n",
       "</style>\n",
       "<table border=\"1\" class=\"dataframe\">\n",
       "  <thead>\n",
       "    <tr style=\"text-align: right;\">\n",
       "      <th></th>\n",
       "      <th>ID</th>\n",
       "      <th>FROMEMAIL</th>\n",
       "      <th>SUBJECT</th>\n",
       "      <th>BODY</th>\n",
       "      <th>NOATT</th>\n",
       "      <th>ATTFILES</th>\n",
       "      <th>adrress</th>\n",
       "      <th>output</th>\n",
       "      <th>ATTFILESLIST</th>\n",
       "      <th>ATTCOUNT</th>\n",
       "    </tr>\n",
       "  </thead>\n",
       "  <tbody>\n",
       "    <tr>\n",
       "      <th>0</th>\n",
       "      <td>1</td>\n",
       "      <td>1</td>\n",
       "      <td>Daily move ROE - Samskip Multimodal B.V. 15-11...</td>\n",
       "      <td>\\nThis email is generated automatically. Pleas...</td>\n",
       "      <td>2</td>\n",
       "      <td>ROE20221115133351477.txt;</td>\n",
       "      <td>1</td>\n",
       "      <td>1</td>\n",
       "      <td>[ROE20221115133351477.txt, ]</td>\n",
       "      <td>1</td>\n",
       "    </tr>\n",
       "    <tr>\n",
       "      <th>1</th>\n",
       "      <td>2</td>\n",
       "      <td>1</td>\n",
       "      <td>DFT CODECO file for SAMSKIP</td>\n",
       "      <td>\\nThis message was automatically generated.\\n\\...</td>\n",
       "      <td>2</td>\n",
       "      <td>0000984742.txt;</td>\n",
       "      <td>1</td>\n",
       "      <td>1</td>\n",
       "      <td>[0000984742.txt, ]</td>\n",
       "      <td>1</td>\n",
       "    </tr>\n",
       "    <tr>\n",
       "      <th>2</th>\n",
       "      <td>3</td>\n",
       "      <td>1</td>\n",
       "      <td>DFT CODECO file for SAMSKIP</td>\n",
       "      <td>\\nThis message was automatically generated.\\n\\...</td>\n",
       "      <td>2</td>\n",
       "      <td>0000984741.txt;</td>\n",
       "      <td>1</td>\n",
       "      <td>1</td>\n",
       "      <td>[0000984741.txt, ]</td>\n",
       "      <td>1</td>\n",
       "    </tr>\n",
       "    <tr>\n",
       "      <th>3</th>\n",
       "      <td>4</td>\n",
       "      <td>1</td>\n",
       "      <td>KCT SAMSKIP CODECO MESSAGES</td>\n",
       "      <td>\\nDear Sir or Madam,\\r\\n\\r\\nWe are sending new...</td>\n",
       "      <td>3</td>\n",
       "      <td>Samskip-CODECO04097126.EDI;</td>\n",
       "      <td>1</td>\n",
       "      <td>1</td>\n",
       "      <td>[Samskip-CODECO04097126.EDI, ]</td>\n",
       "      <td>1</td>\n",
       "    </tr>\n",
       "    <tr>\n",
       "      <th>4</th>\n",
       "      <td>5</td>\n",
       "      <td>1</td>\n",
       "      <td>Container  SANU7524842 arrived</td>\n",
       "      <td>\\nUNA:+.? '\\r\\nUNB+UNOE:2+LVRIXRCOT+ISREYSANA+...</td>\n",
       "      <td>1</td>\n",
       "      <td>truck_in_457930.edi;</td>\n",
       "      <td>1</td>\n",
       "      <td>1</td>\n",
       "      <td>[truck_in_457930.edi, ]</td>\n",
       "      <td>1</td>\n",
       "    </tr>\n",
       "  </tbody>\n",
       "</table>\n",
       "</div>"
      ],
      "text/plain": [
       "  ID FROMEMAIL                                            SUBJECT  \\\n",
       "0  1         1  Daily move ROE - Samskip Multimodal B.V. 15-11...   \n",
       "1  2         1                        DFT CODECO file for SAMSKIP   \n",
       "2  3         1                        DFT CODECO file for SAMSKIP   \n",
       "3  4         1                        KCT SAMSKIP CODECO MESSAGES   \n",
       "4  5         1                     Container  SANU7524842 arrived   \n",
       "\n",
       "                                                BODY NOATT  \\\n",
       "0  \\nThis email is generated automatically. Pleas...     2   \n",
       "1  \\nThis message was automatically generated.\\n\\...     2   \n",
       "2  \\nThis message was automatically generated.\\n\\...     2   \n",
       "3  \\nDear Sir or Madam,\\r\\n\\r\\nWe are sending new...     3   \n",
       "4  \\nUNA:+.? '\\r\\nUNB+UNOE:2+LVRIXRCOT+ISREYSANA+...     1   \n",
       "\n",
       "                      ATTFILES  adrress  output  \\\n",
       "0    ROE20221115133351477.txt;        1       1   \n",
       "1              0000984742.txt;        1       1   \n",
       "2              0000984741.txt;        1       1   \n",
       "3  Samskip-CODECO04097126.EDI;        1       1   \n",
       "4         truck_in_457930.edi;        1       1   \n",
       "\n",
       "                     ATTFILESLIST  ATTCOUNT  \n",
       "0    [ROE20221115133351477.txt, ]         1  \n",
       "1              [0000984742.txt, ]         1  \n",
       "2              [0000984741.txt, ]         1  \n",
       "3  [Samskip-CODECO04097126.EDI, ]         1  \n",
       "4         [truck_in_457930.edi, ]         1  "
      ]
     },
     "execution_count": 196,
     "metadata": {},
     "output_type": "execute_result"
    }
   ],
   "source": [
    "df.head()"
   ]
  },
  {
   "cell_type": "code",
   "execution_count": 197,
   "id": "c4b3fcf6",
   "metadata": {},
   "outputs": [],
   "source": [
    "spam = pd.read_csv('enron_spam_data.csv')  "
   ]
  },
  {
   "cell_type": "code",
   "execution_count": 198,
   "id": "16b690c4",
   "metadata": {
    "scrolled": true
   },
   "outputs": [
    {
     "data": {
      "text/html": [
       "<div>\n",
       "<style scoped>\n",
       "    .dataframe tbody tr th:only-of-type {\n",
       "        vertical-align: middle;\n",
       "    }\n",
       "\n",
       "    .dataframe tbody tr th {\n",
       "        vertical-align: top;\n",
       "    }\n",
       "\n",
       "    .dataframe thead th {\n",
       "        text-align: right;\n",
       "    }\n",
       "</style>\n",
       "<table border=\"1\" class=\"dataframe\">\n",
       "  <thead>\n",
       "    <tr style=\"text-align: right;\">\n",
       "      <th></th>\n",
       "      <th>Message ID</th>\n",
       "      <th>Subject</th>\n",
       "      <th>Message</th>\n",
       "      <th>Spam/Ham</th>\n",
       "      <th>Date</th>\n",
       "    </tr>\n",
       "  </thead>\n",
       "  <tbody>\n",
       "    <tr>\n",
       "      <th>0</th>\n",
       "      <td>0</td>\n",
       "      <td>christmas tree farm pictures</td>\n",
       "      <td>NaN</td>\n",
       "      <td>ham</td>\n",
       "      <td>1999-12-10</td>\n",
       "    </tr>\n",
       "    <tr>\n",
       "      <th>1</th>\n",
       "      <td>1</td>\n",
       "      <td>vastar resources , inc .</td>\n",
       "      <td>gary , production from the high island larger ...</td>\n",
       "      <td>ham</td>\n",
       "      <td>1999-12-13</td>\n",
       "    </tr>\n",
       "    <tr>\n",
       "      <th>2</th>\n",
       "      <td>2</td>\n",
       "      <td>calpine daily gas nomination</td>\n",
       "      <td>- calpine daily gas nomination 1 . doc</td>\n",
       "      <td>ham</td>\n",
       "      <td>1999-12-14</td>\n",
       "    </tr>\n",
       "    <tr>\n",
       "      <th>3</th>\n",
       "      <td>3</td>\n",
       "      <td>re : issue</td>\n",
       "      <td>fyi - see note below - already done .\\nstella\\...</td>\n",
       "      <td>ham</td>\n",
       "      <td>1999-12-14</td>\n",
       "    </tr>\n",
       "    <tr>\n",
       "      <th>4</th>\n",
       "      <td>4</td>\n",
       "      <td>meter 7268 nov allocation</td>\n",
       "      <td>fyi .\\n- - - - - - - - - - - - - - - - - - - -...</td>\n",
       "      <td>ham</td>\n",
       "      <td>1999-12-14</td>\n",
       "    </tr>\n",
       "  </tbody>\n",
       "</table>\n",
       "</div>"
      ],
      "text/plain": [
       "   Message ID                       Subject  \\\n",
       "0           0  christmas tree farm pictures   \n",
       "1           1      vastar resources , inc .   \n",
       "2           2  calpine daily gas nomination   \n",
       "3           3                    re : issue   \n",
       "4           4     meter 7268 nov allocation   \n",
       "\n",
       "                                             Message Spam/Ham        Date  \n",
       "0                                                NaN      ham  1999-12-10  \n",
       "1  gary , production from the high island larger ...      ham  1999-12-13  \n",
       "2             - calpine daily gas nomination 1 . doc      ham  1999-12-14  \n",
       "3  fyi - see note below - already done .\\nstella\\...      ham  1999-12-14  \n",
       "4  fyi .\\n- - - - - - - - - - - - - - - - - - - -...      ham  1999-12-14  "
      ]
     },
     "execution_count": 198,
     "metadata": {},
     "output_type": "execute_result"
    }
   ],
   "source": [
    "spam.head()"
   ]
  },
  {
   "cell_type": "code",
   "execution_count": 199,
   "id": "a6bc15d2",
   "metadata": {},
   "outputs": [
    {
     "data": {
      "text/plain": [
       "(17171, 5)"
      ]
     },
     "execution_count": 199,
     "metadata": {},
     "output_type": "execute_result"
    }
   ],
   "source": [
    "spam[spam['Spam/Ham']=='spam'].shape"
   ]
  },
  {
   "cell_type": "code",
   "execution_count": 200,
   "id": "b806dc56",
   "metadata": {},
   "outputs": [],
   "source": [
    "spamn = spam[spam['Spam/Ham']=='spam']"
   ]
  },
  {
   "cell_type": "code",
   "execution_count": 201,
   "id": "4f3295fd",
   "metadata": {},
   "outputs": [
    {
     "data": {
      "text/plain": [
       "(17171, 5)"
      ]
     },
     "execution_count": 201,
     "metadata": {},
     "output_type": "execute_result"
    }
   ],
   "source": [
    "spamn.shape"
   ]
  },
  {
   "cell_type": "code",
   "execution_count": 202,
   "id": "4043949b",
   "metadata": {},
   "outputs": [
    {
     "name": "stderr",
     "output_type": "stream",
     "text": [
      "/var/folders/0x/hjdrdw650pqchzql_74mksxm0000gp/T/ipykernel_21887/1880172014.py:1: SettingWithCopyWarning: \n",
      "A value is trying to be set on a copy of a slice from a DataFrame.\n",
      "Try using .loc[row_indexer,col_indexer] = value instead\n",
      "\n",
      "See the caveats in the documentation: https://pandas.pydata.org/pandas-docs/stable/user_guide/indexing.html#returning-a-view-versus-a-copy\n",
      "  spamn['Output'] =0\n"
     ]
    }
   ],
   "source": [
    "spamn['Output'] =0\n"
   ]
  },
  {
   "cell_type": "code",
   "execution_count": 203,
   "id": "17014232",
   "metadata": {},
   "outputs": [
    {
     "name": "stderr",
     "output_type": "stream",
     "text": [
      "/var/folders/0x/hjdrdw650pqchzql_74mksxm0000gp/T/ipykernel_21887/2617437242.py:1: SettingWithCopyWarning: \n",
      "A value is trying to be set on a copy of a slice from a DataFrame.\n",
      "Try using .loc[row_indexer,col_indexer] = value instead\n",
      "\n",
      "See the caveats in the documentation: https://pandas.pydata.org/pandas-docs/stable/user_guide/indexing.html#returning-a-view-versus-a-copy\n",
      "  spamn['ATTCOUNT'] =0\n",
      "/var/folders/0x/hjdrdw650pqchzql_74mksxm0000gp/T/ipykernel_21887/2617437242.py:2: SettingWithCopyWarning: \n",
      "A value is trying to be set on a copy of a slice from a DataFrame.\n",
      "Try using .loc[row_indexer,col_indexer] = value instead\n",
      "\n",
      "See the caveats in the documentation: https://pandas.pydata.org/pandas-docs/stable/user_guide/indexing.html#returning-a-view-versus-a-copy\n",
      "  spamn['FROMEMAIL'] =0\n"
     ]
    }
   ],
   "source": [
    "spamn['ATTCOUNT'] =0\n",
    "spamn['FROMEMAIL'] =0"
   ]
  },
  {
   "cell_type": "code",
   "execution_count": 204,
   "id": "cba5b473",
   "metadata": {},
   "outputs": [
    {
     "data": {
      "text/html": [
       "<div>\n",
       "<style scoped>\n",
       "    .dataframe tbody tr th:only-of-type {\n",
       "        vertical-align: middle;\n",
       "    }\n",
       "\n",
       "    .dataframe tbody tr th {\n",
       "        vertical-align: top;\n",
       "    }\n",
       "\n",
       "    .dataframe thead th {\n",
       "        text-align: right;\n",
       "    }\n",
       "</style>\n",
       "<table border=\"1\" class=\"dataframe\">\n",
       "  <thead>\n",
       "    <tr style=\"text-align: right;\">\n",
       "      <th></th>\n",
       "      <th>Message ID</th>\n",
       "      <th>Subject</th>\n",
       "      <th>Message</th>\n",
       "      <th>Spam/Ham</th>\n",
       "      <th>Date</th>\n",
       "      <th>Output</th>\n",
       "      <th>ATTCOUNT</th>\n",
       "      <th>FROMEMAIL</th>\n",
       "    </tr>\n",
       "  </thead>\n",
       "  <tbody>\n",
       "    <tr>\n",
       "      <th>3672</th>\n",
       "      <td>3672</td>\n",
       "      <td>dobmeos with hgh my energy level has gone up !...</td>\n",
       "      <td>introducing\\ndoctor - formulated\\nhgh\\nhuman g...</td>\n",
       "      <td>spam</td>\n",
       "      <td>2003-12-18</td>\n",
       "      <td>0</td>\n",
       "      <td>0</td>\n",
       "      <td>0</td>\n",
       "    </tr>\n",
       "    <tr>\n",
       "      <th>3673</th>\n",
       "      <td>3673</td>\n",
       "      <td>your prescription is ready . . oxwq s f e</td>\n",
       "      <td>low cost prescription medications\\nsoma , ultr...</td>\n",
       "      <td>spam</td>\n",
       "      <td>2003-12-18</td>\n",
       "      <td>0</td>\n",
       "      <td>0</td>\n",
       "      <td>0</td>\n",
       "    </tr>\n",
       "    <tr>\n",
       "      <th>3674</th>\n",
       "      <td>3674</td>\n",
       "      <td>get that new car 8434</td>\n",
       "      <td>people nowthe weather or climate in any partic...</td>\n",
       "      <td>spam</td>\n",
       "      <td>2003-12-18</td>\n",
       "      <td>0</td>\n",
       "      <td>0</td>\n",
       "      <td>0</td>\n",
       "    </tr>\n",
       "    <tr>\n",
       "      <th>3675</th>\n",
       "      <td>3675</td>\n",
       "      <td>await your response</td>\n",
       "      <td>dear partner ,\\nwe are a team of government of...</td>\n",
       "      <td>spam</td>\n",
       "      <td>2003-12-18</td>\n",
       "      <td>0</td>\n",
       "      <td>0</td>\n",
       "      <td>0</td>\n",
       "    </tr>\n",
       "    <tr>\n",
       "      <th>3676</th>\n",
       "      <td>3676</td>\n",
       "      <td>coca cola , mbna america , nascar partner with...</td>\n",
       "      <td>stock\\nprofile\\nabout\\ncompany\\ninvestment\\nhi...</td>\n",
       "      <td>spam</td>\n",
       "      <td>2003-12-18</td>\n",
       "      <td>0</td>\n",
       "      <td>0</td>\n",
       "      <td>0</td>\n",
       "    </tr>\n",
       "  </tbody>\n",
       "</table>\n",
       "</div>"
      ],
      "text/plain": [
       "      Message ID                                            Subject  \\\n",
       "3672        3672  dobmeos with hgh my energy level has gone up !...   \n",
       "3673        3673          your prescription is ready . . oxwq s f e   \n",
       "3674        3674                              get that new car 8434   \n",
       "3675        3675                                await your response   \n",
       "3676        3676  coca cola , mbna america , nascar partner with...   \n",
       "\n",
       "                                                Message Spam/Ham        Date  \\\n",
       "3672  introducing\\ndoctor - formulated\\nhgh\\nhuman g...     spam  2003-12-18   \n",
       "3673  low cost prescription medications\\nsoma , ultr...     spam  2003-12-18   \n",
       "3674  people nowthe weather or climate in any partic...     spam  2003-12-18   \n",
       "3675  dear partner ,\\nwe are a team of government of...     spam  2003-12-18   \n",
       "3676  stock\\nprofile\\nabout\\ncompany\\ninvestment\\nhi...     spam  2003-12-18   \n",
       "\n",
       "      Output  ATTCOUNT  FROMEMAIL  \n",
       "3672       0         0          0  \n",
       "3673       0         0          0  \n",
       "3674       0         0          0  \n",
       "3675       0         0          0  \n",
       "3676       0         0          0  "
      ]
     },
     "execution_count": 204,
     "metadata": {},
     "output_type": "execute_result"
    }
   ],
   "source": [
    "spamn.head()"
   ]
  },
  {
   "cell_type": "code",
   "execution_count": 205,
   "id": "57aab7b2",
   "metadata": {},
   "outputs": [
    {
     "name": "stderr",
     "output_type": "stream",
     "text": [
      "/var/folders/0x/hjdrdw650pqchzql_74mksxm0000gp/T/ipykernel_21887/4036986947.py:1: SettingWithCopyWarning: \n",
      "A value is trying to be set on a copy of a slice from a DataFrame\n",
      "\n",
      "See the caveats in the documentation: https://pandas.pydata.org/pandas-docs/stable/user_guide/indexing.html#returning-a-view-versus-a-copy\n",
      "  spamn.rename({'Subject': 'SUBJECT', 'Message': 'BODY','Output':'output'}, axis=1, inplace=True)\n"
     ]
    }
   ],
   "source": [
    "spamn.rename({'Subject': 'SUBJECT', 'Message': 'BODY','Output':'output'}, axis=1, inplace=True)"
   ]
  },
  {
   "cell_type": "code",
   "execution_count": 206,
   "id": "b033eabc",
   "metadata": {},
   "outputs": [
    {
     "data": {
      "text/html": [
       "<div>\n",
       "<style scoped>\n",
       "    .dataframe tbody tr th:only-of-type {\n",
       "        vertical-align: middle;\n",
       "    }\n",
       "\n",
       "    .dataframe tbody tr th {\n",
       "        vertical-align: top;\n",
       "    }\n",
       "\n",
       "    .dataframe thead th {\n",
       "        text-align: right;\n",
       "    }\n",
       "</style>\n",
       "<table border=\"1\" class=\"dataframe\">\n",
       "  <thead>\n",
       "    <tr style=\"text-align: right;\">\n",
       "      <th></th>\n",
       "      <th>Message ID</th>\n",
       "      <th>SUBJECT</th>\n",
       "      <th>BODY</th>\n",
       "      <th>Spam/Ham</th>\n",
       "      <th>Date</th>\n",
       "      <th>output</th>\n",
       "      <th>ATTCOUNT</th>\n",
       "      <th>FROMEMAIL</th>\n",
       "    </tr>\n",
       "  </thead>\n",
       "  <tbody>\n",
       "    <tr>\n",
       "      <th>3672</th>\n",
       "      <td>3672</td>\n",
       "      <td>dobmeos with hgh my energy level has gone up !...</td>\n",
       "      <td>introducing\\ndoctor - formulated\\nhgh\\nhuman g...</td>\n",
       "      <td>spam</td>\n",
       "      <td>2003-12-18</td>\n",
       "      <td>0</td>\n",
       "      <td>0</td>\n",
       "      <td>0</td>\n",
       "    </tr>\n",
       "    <tr>\n",
       "      <th>3673</th>\n",
       "      <td>3673</td>\n",
       "      <td>your prescription is ready . . oxwq s f e</td>\n",
       "      <td>low cost prescription medications\\nsoma , ultr...</td>\n",
       "      <td>spam</td>\n",
       "      <td>2003-12-18</td>\n",
       "      <td>0</td>\n",
       "      <td>0</td>\n",
       "      <td>0</td>\n",
       "    </tr>\n",
       "    <tr>\n",
       "      <th>3674</th>\n",
       "      <td>3674</td>\n",
       "      <td>get that new car 8434</td>\n",
       "      <td>people nowthe weather or climate in any partic...</td>\n",
       "      <td>spam</td>\n",
       "      <td>2003-12-18</td>\n",
       "      <td>0</td>\n",
       "      <td>0</td>\n",
       "      <td>0</td>\n",
       "    </tr>\n",
       "    <tr>\n",
       "      <th>3675</th>\n",
       "      <td>3675</td>\n",
       "      <td>await your response</td>\n",
       "      <td>dear partner ,\\nwe are a team of government of...</td>\n",
       "      <td>spam</td>\n",
       "      <td>2003-12-18</td>\n",
       "      <td>0</td>\n",
       "      <td>0</td>\n",
       "      <td>0</td>\n",
       "    </tr>\n",
       "    <tr>\n",
       "      <th>3676</th>\n",
       "      <td>3676</td>\n",
       "      <td>coca cola , mbna america , nascar partner with...</td>\n",
       "      <td>stock\\nprofile\\nabout\\ncompany\\ninvestment\\nhi...</td>\n",
       "      <td>spam</td>\n",
       "      <td>2003-12-18</td>\n",
       "      <td>0</td>\n",
       "      <td>0</td>\n",
       "      <td>0</td>\n",
       "    </tr>\n",
       "  </tbody>\n",
       "</table>\n",
       "</div>"
      ],
      "text/plain": [
       "      Message ID                                            SUBJECT  \\\n",
       "3672        3672  dobmeos with hgh my energy level has gone up !...   \n",
       "3673        3673          your prescription is ready . . oxwq s f e   \n",
       "3674        3674                              get that new car 8434   \n",
       "3675        3675                                await your response   \n",
       "3676        3676  coca cola , mbna america , nascar partner with...   \n",
       "\n",
       "                                                   BODY Spam/Ham        Date  \\\n",
       "3672  introducing\\ndoctor - formulated\\nhgh\\nhuman g...     spam  2003-12-18   \n",
       "3673  low cost prescription medications\\nsoma , ultr...     spam  2003-12-18   \n",
       "3674  people nowthe weather or climate in any partic...     spam  2003-12-18   \n",
       "3675  dear partner ,\\nwe are a team of government of...     spam  2003-12-18   \n",
       "3676  stock\\nprofile\\nabout\\ncompany\\ninvestment\\nhi...     spam  2003-12-18   \n",
       "\n",
       "      output  ATTCOUNT  FROMEMAIL  \n",
       "3672       0         0          0  \n",
       "3673       0         0          0  \n",
       "3674       0         0          0  \n",
       "3675       0         0          0  \n",
       "3676       0         0          0  "
      ]
     },
     "execution_count": 206,
     "metadata": {},
     "output_type": "execute_result"
    }
   ],
   "source": [
    "spamn.head()"
   ]
  },
  {
   "cell_type": "code",
   "execution_count": 207,
   "id": "7efe8f0a",
   "metadata": {},
   "outputs": [],
   "source": [
    "final1 = df[['FROMEMAIL','ATTCOUNT','SUBJECT','BODY','output']]"
   ]
  },
  {
   "cell_type": "code",
   "execution_count": 208,
   "id": "68b5ed0b",
   "metadata": {},
   "outputs": [
    {
     "data": {
      "text/html": [
       "<div>\n",
       "<style scoped>\n",
       "    .dataframe tbody tr th:only-of-type {\n",
       "        vertical-align: middle;\n",
       "    }\n",
       "\n",
       "    .dataframe tbody tr th {\n",
       "        vertical-align: top;\n",
       "    }\n",
       "\n",
       "    .dataframe thead th {\n",
       "        text-align: right;\n",
       "    }\n",
       "</style>\n",
       "<table border=\"1\" class=\"dataframe\">\n",
       "  <thead>\n",
       "    <tr style=\"text-align: right;\">\n",
       "      <th></th>\n",
       "      <th>FROMEMAIL</th>\n",
       "      <th>ATTCOUNT</th>\n",
       "      <th>SUBJECT</th>\n",
       "      <th>BODY</th>\n",
       "      <th>output</th>\n",
       "    </tr>\n",
       "  </thead>\n",
       "  <tbody>\n",
       "    <tr>\n",
       "      <th>0</th>\n",
       "      <td>1</td>\n",
       "      <td>1</td>\n",
       "      <td>Daily move ROE - Samskip Multimodal B.V. 15-11...</td>\n",
       "      <td>\\nThis email is generated automatically. Pleas...</td>\n",
       "      <td>1</td>\n",
       "    </tr>\n",
       "    <tr>\n",
       "      <th>1</th>\n",
       "      <td>1</td>\n",
       "      <td>1</td>\n",
       "      <td>DFT CODECO file for SAMSKIP</td>\n",
       "      <td>\\nThis message was automatically generated.\\n\\...</td>\n",
       "      <td>1</td>\n",
       "    </tr>\n",
       "    <tr>\n",
       "      <th>2</th>\n",
       "      <td>1</td>\n",
       "      <td>1</td>\n",
       "      <td>DFT CODECO file for SAMSKIP</td>\n",
       "      <td>\\nThis message was automatically generated.\\n\\...</td>\n",
       "      <td>1</td>\n",
       "    </tr>\n",
       "    <tr>\n",
       "      <th>3</th>\n",
       "      <td>1</td>\n",
       "      <td>1</td>\n",
       "      <td>KCT SAMSKIP CODECO MESSAGES</td>\n",
       "      <td>\\nDear Sir or Madam,\\r\\n\\r\\nWe are sending new...</td>\n",
       "      <td>1</td>\n",
       "    </tr>\n",
       "    <tr>\n",
       "      <th>4</th>\n",
       "      <td>1</td>\n",
       "      <td>1</td>\n",
       "      <td>Container  SANU7524842 arrived</td>\n",
       "      <td>\\nUNA:+.? '\\r\\nUNB+UNOE:2+LVRIXRCOT+ISREYSANA+...</td>\n",
       "      <td>1</td>\n",
       "    </tr>\n",
       "  </tbody>\n",
       "</table>\n",
       "</div>"
      ],
      "text/plain": [
       "  FROMEMAIL  ATTCOUNT                                            SUBJECT  \\\n",
       "0         1         1  Daily move ROE - Samskip Multimodal B.V. 15-11...   \n",
       "1         1         1                        DFT CODECO file for SAMSKIP   \n",
       "2         1         1                        DFT CODECO file for SAMSKIP   \n",
       "3         1         1                        KCT SAMSKIP CODECO MESSAGES   \n",
       "4         1         1                     Container  SANU7524842 arrived   \n",
       "\n",
       "                                                BODY  output  \n",
       "0  \\nThis email is generated automatically. Pleas...       1  \n",
       "1  \\nThis message was automatically generated.\\n\\...       1  \n",
       "2  \\nThis message was automatically generated.\\n\\...       1  \n",
       "3  \\nDear Sir or Madam,\\r\\n\\r\\nWe are sending new...       1  \n",
       "4  \\nUNA:+.? '\\r\\nUNB+UNOE:2+LVRIXRCOT+ISREYSANA+...       1  "
      ]
     },
     "execution_count": 208,
     "metadata": {},
     "output_type": "execute_result"
    }
   ],
   "source": [
    "final1.head()"
   ]
  },
  {
   "cell_type": "code",
   "execution_count": 209,
   "id": "b4cd0de9",
   "metadata": {},
   "outputs": [],
   "source": [
    "final2 = spamn[['FROMEMAIL','ATTCOUNT','SUBJECT','BODY','output']]"
   ]
  },
  {
   "cell_type": "code",
   "execution_count": 210,
   "id": "a7b9a9a6",
   "metadata": {},
   "outputs": [],
   "source": [
    "fintot = pd.concat([final1, final2], ignore_index=True)"
   ]
  },
  {
   "cell_type": "code",
   "execution_count": 211,
   "id": "4237a354",
   "metadata": {},
   "outputs": [
    {
     "data": {
      "text/plain": [
       "(38597, 5)"
      ]
     },
     "execution_count": 211,
     "metadata": {},
     "output_type": "execute_result"
    }
   ],
   "source": [
    "fintot.shape"
   ]
  },
  {
   "cell_type": "code",
   "execution_count": 212,
   "id": "77e2cc72",
   "metadata": {},
   "outputs": [
    {
     "data": {
      "text/html": [
       "<div>\n",
       "<style scoped>\n",
       "    .dataframe tbody tr th:only-of-type {\n",
       "        vertical-align: middle;\n",
       "    }\n",
       "\n",
       "    .dataframe tbody tr th {\n",
       "        vertical-align: top;\n",
       "    }\n",
       "\n",
       "    .dataframe thead th {\n",
       "        text-align: right;\n",
       "    }\n",
       "</style>\n",
       "<table border=\"1\" class=\"dataframe\">\n",
       "  <thead>\n",
       "    <tr style=\"text-align: right;\">\n",
       "      <th></th>\n",
       "      <th>ATTCOUNT</th>\n",
       "      <th>output</th>\n",
       "    </tr>\n",
       "  </thead>\n",
       "  <tbody>\n",
       "    <tr>\n",
       "      <th>count</th>\n",
       "      <td>38597.000000</td>\n",
       "      <td>38597.000000</td>\n",
       "    </tr>\n",
       "    <tr>\n",
       "      <th>mean</th>\n",
       "      <td>0.543876</td>\n",
       "      <td>0.555121</td>\n",
       "    </tr>\n",
       "    <tr>\n",
       "      <th>std</th>\n",
       "      <td>0.498078</td>\n",
       "      <td>0.496959</td>\n",
       "    </tr>\n",
       "    <tr>\n",
       "      <th>min</th>\n",
       "      <td>0.000000</td>\n",
       "      <td>0.000000</td>\n",
       "    </tr>\n",
       "    <tr>\n",
       "      <th>25%</th>\n",
       "      <td>0.000000</td>\n",
       "      <td>0.000000</td>\n",
       "    </tr>\n",
       "    <tr>\n",
       "      <th>50%</th>\n",
       "      <td>1.000000</td>\n",
       "      <td>1.000000</td>\n",
       "    </tr>\n",
       "    <tr>\n",
       "      <th>75%</th>\n",
       "      <td>1.000000</td>\n",
       "      <td>1.000000</td>\n",
       "    </tr>\n",
       "    <tr>\n",
       "      <th>max</th>\n",
       "      <td>1.000000</td>\n",
       "      <td>1.000000</td>\n",
       "    </tr>\n",
       "  </tbody>\n",
       "</table>\n",
       "</div>"
      ],
      "text/plain": [
       "           ATTCOUNT        output\n",
       "count  38597.000000  38597.000000\n",
       "mean       0.543876      0.555121\n",
       "std        0.498078      0.496959\n",
       "min        0.000000      0.000000\n",
       "25%        0.000000      0.000000\n",
       "50%        1.000000      1.000000\n",
       "75%        1.000000      1.000000\n",
       "max        1.000000      1.000000"
      ]
     },
     "execution_count": 212,
     "metadata": {},
     "output_type": "execute_result"
    }
   ],
   "source": [
    "fintot.describe()"
   ]
  },
  {
   "cell_type": "code",
   "execution_count": 213,
   "id": "b49ee241",
   "metadata": {},
   "outputs": [],
   "source": [
    "from sklearn.compose import ColumnTransformer\n",
    "from sklearn.compose import ColumnTransformer, make_column_transformer\n",
    "from sklearn.dummy import DummyClassifier, DummyRegressor\n",
    "from sklearn.impute import SimpleImputer\n",
    "from sklearn.model_selection import cross_val_score, cross_validate, train_test_split\n",
    "from sklearn.neighbors import KNeighborsClassifier\n",
    "from sklearn.pipeline import Pipeline, make_pipeline\n",
    "from sklearn.preprocessing import OneHotEncoder, OrdinalEncoder, StandardScaler\n",
    "from sklearn.svm import SVC\n",
    "from sklearn.tree import DecisionTreeClassifier\n",
    "\n",
    "categorical_feats = ['SUBJECT','BODY']\n",
    "ct = ColumnTransformer(\n",
    "    [\n",
    "        (\"onehot\", OneHotEncoder(sparse=False), categorical_feats)\n",
    "    ]\n",
    ")\n"
   ]
  },
  {
   "cell_type": "code",
   "execution_count": 217,
   "id": "226240d5",
   "metadata": {},
   "outputs": [],
   "source": [
    "from sklearn.model_selection import train_test_split\n",
    "\n",
    "\n",
    "X = fintot.drop('output', axis=1)\n",
    "Y = fintot['output']\n",
    "\n",
    "X = ct.fit_transform(X)\n",
    "\n",
    "X_train,X_test,y_train,y_test=train_test_split(X,Y,test_size=0.25)\n"
   ]
  },
  {
   "cell_type": "code",
   "execution_count": 218,
   "id": "e79f917f",
   "metadata": {},
   "outputs": [
    {
     "data": {
      "text/plain": [
       "array([[0., 0., 0., ..., 0., 0., 0.],\n",
       "       [0., 0., 0., ..., 0., 0., 0.],\n",
       "       [0., 0., 0., ..., 0., 0., 0.],\n",
       "       ...,\n",
       "       [0., 0., 0., ..., 0., 0., 0.],\n",
       "       [0., 0., 0., ..., 0., 0., 0.],\n",
       "       [0., 0., 0., ..., 0., 0., 0.]])"
      ]
     },
     "execution_count": 218,
     "metadata": {},
     "output_type": "execute_result"
    }
   ],
   "source": [
    "X_train"
   ]
  },
  {
   "cell_type": "code",
   "execution_count": 220,
   "id": "7e7df5aa",
   "metadata": {},
   "outputs": [
    {
     "data": {
      "text/plain": [
       "MultinomialNB()"
      ]
     },
     "execution_count": 220,
     "metadata": {},
     "output_type": "execute_result"
    }
   ],
   "source": [
    "from sklearn.naive_bayes import MultinomialNB\n",
    "\n",
    "clf = MultinomialNB()\n",
    "clf.fit(X_train,y_train)"
   ]
  },
  {
   "cell_type": "code",
   "execution_count": 221,
   "id": "b1166fc6",
   "metadata": {},
   "outputs": [],
   "source": [
    "y_pred = clf.predict(X_test)"
   ]
  },
  {
   "cell_type": "code",
   "execution_count": 222,
   "id": "be4c5dbc",
   "metadata": {},
   "outputs": [
    {
     "data": {
      "text/plain": [
       "0.7558549222797928"
      ]
     },
     "execution_count": 222,
     "metadata": {},
     "output_type": "execute_result"
    }
   ],
   "source": [
    "clf.score(X_test,y_test)"
   ]
  },
  {
   "cell_type": "code",
   "execution_count": 223,
   "id": "f5589788",
   "metadata": {},
   "outputs": [
    {
     "data": {
      "text/plain": [
       "array([1, 1, 1, ..., 1, 1, 1])"
      ]
     },
     "execution_count": 223,
     "metadata": {},
     "output_type": "execute_result"
    }
   ],
   "source": [
    "y_pred "
   ]
  },
  {
   "cell_type": "code",
   "execution_count": 224,
   "id": "f981b158",
   "metadata": {},
   "outputs": [
    {
     "data": {
      "text/plain": [
       "array([[1865, 2356],\n",
       "       [   0, 5429]])"
      ]
     },
     "execution_count": 224,
     "metadata": {},
     "output_type": "execute_result"
    }
   ],
   "source": [
    "from sklearn.metrics import confusion_matrix\n",
    "confusion_matrix(y_test, y_pred)"
   ]
  },
  {
   "cell_type": "code",
   "execution_count": 227,
   "id": "027aebb6",
   "metadata": {},
   "outputs": [
    {
     "name": "stdout",
     "output_type": "stream",
     "text": [
      "              precision    recall  f1-score   support\n",
      "\n",
      "     class 0       1.00      0.44      0.61      4221\n",
      "     class 1       0.70      1.00      0.82      5429\n",
      "\n",
      "    accuracy                           0.76      9650\n",
      "   macro avg       0.85      0.72      0.72      9650\n",
      "weighted avg       0.83      0.76      0.73      9650\n",
      "\n"
     ]
    }
   ],
   "source": [
    "from sklearn.metrics import classification_report\n",
    "target_names = ['class 0', 'class 1']\n",
    "print(classification_report(y_test, y_pred, target_names=target_names))"
   ]
  },
  {
   "cell_type": "code",
   "execution_count": null,
   "id": "aa56b352",
   "metadata": {},
   "outputs": [],
   "source": []
  }
 ],
 "metadata": {
  "kernelspec": {
   "display_name": "Python 3 (ipykernel)",
   "language": "python",
   "name": "python3"
  },
  "language_info": {
   "codemirror_mode": {
    "name": "ipython",
    "version": 3
   },
   "file_extension": ".py",
   "mimetype": "text/x-python",
   "name": "python",
   "nbconvert_exporter": "python",
   "pygments_lexer": "ipython3",
   "version": "3.9.13"
  }
 },
 "nbformat": 4,
 "nbformat_minor": 5
}
